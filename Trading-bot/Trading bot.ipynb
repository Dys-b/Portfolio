{
 "cells": [
  {
   "cell_type": "code",
   "execution_count": 1,
   "id": "50408c6c-49c4-4157-a1ba-fb467350f155",
   "metadata": {},
   "outputs": [],
   "source": [
    "import numpy as np\n",
    "import pandas as pd\n",
    "import tensorflow as tf\n",
    "from sklearn.preprocessing import MinMaxScaler\n",
    "import MetaTrader5 as mt5\n",
    "import pytz\n",
    "from datetime import datetime, timedelta\n",
    "import time\n"
   ]
  },
  {
   "cell_type": "code",
   "execution_count": 2,
   "id": "dde62155-2c29-4093-8571-86b70ecc23a9",
   "metadata": {},
   "outputs": [],
   "source": [
    "# establish connection to the MetaTrader 5 terminal\n",
    "if not mt5.initialize():\n",
    "    print(\"initialize() failed, error code =\",mt5.last_error())\n",
    "    quit()"
   ]
  },
  {
   "cell_type": "code",
   "execution_count": 3,
   "id": "5c7ec4ba-23c6-4292-bdcb-3b8649d17057",
   "metadata": {},
   "outputs": [
    {
     "name": "stdout",
     "output_type": "stream",
     "text": [
      " login=511899\n",
      " trade_mode=2\n",
      " leverage=200\n",
      " limit_orders=500\n",
      " margin_so_mode=0\n",
      " trade_allowed=True\n",
      " trade_expert=True\n",
      " margin_mode=2\n",
      " currency_digits=2\n",
      " fifo_close=False\n",
      " balance=148.33\n",
      " credit=0.0\n",
      " profit=0.0\n",
      " equity=148.33\n",
      " margin=0.0\n",
      " margin_free=148.33\n",
      " margin_level=0.0\n",
      " margin_so_call=90.0\n",
      " margin_so_so=50.0\n",
      " margin_initial=0.0\n",
      " margin_maintenance=0.0\n",
      " assets=0.0\n",
      " liabilities=0.0\n",
      " commission_blocked=0.0\n",
      " name=\n",
      " server=MT5-Live01\n",
      " currency=USD\n",
      " company=Group Limited\n"
     ]
    }
   ],
   "source": [
    "# connect to the trade account without specifying a password and a server\n",
    "account=511899\n",
    "authorized=mt5.login(account, password= \"Your_password\", server=\"MT5-Live01\", path= \"C:\\Program Files\\MetaTrader 5\\terminal64.exe\")  \n",
    "\n",
    "# the terminal database password is applied if connection data is set to be remembered\n",
    "if authorized:\n",
    "    account_info_dict =mt5.account_info()._asdict()\n",
    "    for prop in account_info_dict:\n",
    "        print(\" {}={}\".format(prop, account_info_dict[prop]))\n",
    "else:\n",
    "    print(\"failed to connect at account #{}, error code: {}\".format(account, mt5.last_error()))\n",
    "    \n"
   ]
  },
  {
   "cell_type": "code",
   "execution_count": 4,
   "id": "2f5c463e-9a0a-476d-817e-1916eac55654",
   "metadata": {},
   "outputs": [
    {
     "name": "stdout",
     "output_type": "stream",
     "text": [
      "Solicitando datos históricos para EURUSD - Timeframe: 5\n",
      "Desde: 2023-08-31 04:53:56.887542+00:00 - Hasta: 2023-09-01 04:53:56.887542+00:00\n"
     ]
    }
   ],
   "source": [
    "# Define the symbol and timeframe\n",
    "symbol = \"EURUSD\"\n",
    "timeframe = mt5.TIMEFRAME_M5\n",
    "\n",
    "# Establish the timezone to UTC\n",
    "timezone = pytz.timezone(\"Etc/UTC\")\n",
    "\n",
    "# Obtain the current date and time \n",
    "now_utc = datetime.now(tz=timezone)\n",
    "\n",
    "# Calculate the yesterday date  \n",
    "yesterday_utc = now_utc - timedelta(days=1)\n",
    "\n",
    "# Create objects to 'datetime' in  UTC timezone for yesterday and today \n",
    "utc_from = yesterday_utc\n",
    "utc_to = now_utc\n",
    "\n",
    "# Print the info before to obtain the data \n",
    "print(f\"Solicitando datos históricos para {symbol} - Timeframe: {timeframe}\")\n",
    "print(f\"Desde: {utc_from} - Hasta: {utc_to}\")"
   ]
  },
  {
   "cell_type": "code",
   "execution_count": 5,
   "id": "404b80eb-2f98-4615-b840-10471e4ab286",
   "metadata": {},
   "outputs": [
    {
     "name": "stdout",
     "output_type": "stream",
     "text": [
      "Total de barras obtenidas: 288\n",
      "Primeras 10 barras obtenidas:\n",
      "Barra 1: (1693457700, 1.0932, 1.09321, 1.09278, 1.09289, 218, 0, 0)\n",
      "Barra 2: (1693458000, 1.09289, 1.09298, 1.09263, 1.09269, 122, 0, 0)\n",
      "Barra 3: (1693458300, 1.09269, 1.09269, 1.09238, 1.09239, 104, 0, 0)\n",
      "Barra 4: (1693458600, 1.09238, 1.09256, 1.09238, 1.09247, 114, 0, 0)\n",
      "Barra 5: (1693458900, 1.09247, 1.09276, 1.09247, 1.0927, 116, 0, 0)\n",
      "Barra 6: (1693459200, 1.0927, 1.09281, 1.09265, 1.09276, 65, 0, 0)\n",
      "Barra 7: (1693459500, 1.09276, 1.09277, 1.09254, 1.09255, 67, 0, 0)\n",
      "Barra 8: (1693459800, 1.09255, 1.09256, 1.09245, 1.0925, 62, 0, 0)\n",
      "Barra 9: (1693460100, 1.0925, 1.09251, 1.09223, 1.09236, 144, 0, 0)\n",
      "Barra 10: (1693460400, 1.09236, 1.09253, 1.09228, 1.09237, 99, 0, 0)\n",
      "Barra 11: (1693460700, 1.09237, 1.09239, 1.09222, 1.09227, 129, 0, 0)\n",
      "Barra 12: (1693461000, 1.09227, 1.09237, 1.09218, 1.09222, 110, 0, 0)\n",
      "Barra 13: (1693461300, 1.09222, 1.09228, 1.09209, 1.09218, 93, 0, 0)\n",
      "Barra 14: (1693461600, 1.09218, 1.09228, 1.09205, 1.09224, 141, 0, 0)\n",
      "Barra 15: (1693461900, 1.09224, 1.09226, 1.09214, 1.09222, 134, 0, 0)\n",
      "Barra 16: (1693462200, 1.09222, 1.09225, 1.09205, 1.09213, 61, 0, 0)\n",
      "Barra 17: (1693462500, 1.09213, 1.09226, 1.09213, 1.09224, 33, 0, 0)\n",
      "Barra 18: (1693462800, 1.09224, 1.09225, 1.09206, 1.09214, 55, 0, 0)\n",
      "Barra 19: (1693463100, 1.09215, 1.09229, 1.09214, 1.09225, 53, 0, 0)\n",
      "Barra 20: (1693463400, 1.09225, 1.09228, 1.09213, 1.09214, 42, 0, 0)\n"
     ]
    }
   ],
   "source": [
    "# Obtain the historic data using copy_rates_range\n",
    "rates = mt5.copy_rates_range('EURUSD', mt5.TIMEFRAME_M5, utc_from, utc_to)\n",
    "\n",
    "# Print the info after to obtain the data \n",
    "print(f\"Total de barras obtenidas: {len(rates)}\")\n",
    "print(\"Primeras 10 barras obtenidas:\")\n",
    "for i, rate in enumerate(rates[:20], start=1):\n",
    "    print(f\"Barra {i}: {rate}\")"
   ]
  },
  {
   "cell_type": "code",
   "execution_count": 6,
   "id": "f76c0a0a-e014-4069-95eb-adb19ab6c46f",
   "metadata": {},
   "outputs": [],
   "source": [
    "# load the trained LSTM model\n",
    "model = tf.keras.models.load_model('model_checkpoint.h5')"
   ]
  },
  {
   "cell_type": "code",
   "execution_count": 7,
   "id": "82f7a29c-243e-4689-b3bb-afe16b8fff43",
   "metadata": {},
   "outputs": [
    {
     "name": "stdout",
     "output_type": "stream",
     "text": [
      "[1.09289 1.09269 1.09239 1.09247 1.0927  1.09276 1.09255 1.0925  1.09236\n",
      " 1.09237 1.09227 1.09222 1.09218 1.09224 1.09222 1.09213 1.09224 1.09214\n",
      " 1.09225 1.09214 1.0922  1.09203 1.09211 1.09209 1.09204 1.09214 1.09218\n",
      " 1.09224 1.09217 1.09202 1.09204 1.09205 1.09201 1.09192 1.09201 1.09195\n",
      " 1.09187 1.09178 1.09169 1.09179 1.0918  1.09182 1.09173 1.09189 1.09186\n",
      " 1.09173 1.0919  1.09191 1.0918  1.09137 1.09138 1.09154 1.09145 1.09113\n",
      " 1.09135 1.09135 1.09148 1.09165 1.09158 1.09092 1.09072 1.0903  1.08969\n",
      " 1.08942 1.08922 1.08942 1.08972 1.09014 1.09032 1.08997 1.08997 1.08937\n",
      " 1.08927 1.08918 1.08858 1.08893 1.08893 1.08877 1.08865 1.08856 1.08884\n",
      " 1.08871 1.08843 1.08813 1.08779 1.08654 1.08709 1.08711 1.08716 1.08739\n",
      " 1.08734 1.08725 1.08704 1.08735 1.08734 1.08744 1.08742 1.08733 1.08707\n",
      " 1.08653 1.08641 1.08653 1.087   1.08718 1.08765 1.08749 1.08746 1.08738\n",
      " 1.08732 1.08709 1.08708 1.08709 1.08732 1.08659 1.08672 1.08622 1.08607\n",
      " 1.08644 1.08664 1.08648 1.08683 1.08679 1.0868  1.08793 1.088   1.08754\n",
      " 1.08758 1.08795 1.08692 1.08688 1.08683 1.08729 1.08743 1.08633 1.08565\n",
      " 1.08602 1.08612 1.08604 1.08609 1.08624 1.08564 1.08528 1.08424 1.08451\n",
      " 1.08493 1.08555 1.08509 1.08485 1.08484 1.08531 1.08534 1.08494 1.08471\n",
      " 1.08419 1.08446 1.08445 1.08549 1.08474 1.08498 1.08448 1.0846  1.08462\n",
      " 1.08483 1.08433 1.08448 1.08382 1.08404 1.08406 1.08387 1.08389 1.08431\n",
      " 1.08417 1.08399 1.08367 1.08367 1.08358 1.08389 1.08395 1.08389 1.08424\n",
      " 1.08387 1.08413 1.08429 1.08442 1.08428 1.08473 1.08439 1.08439 1.08504\n",
      " 1.08494 1.08496 1.08485 1.08489 1.08496 1.08511 1.08509 1.08511 1.08535\n",
      " 1.08534 1.08515 1.08503 1.0847  1.08483 1.08466 1.08458 1.08474 1.08489\n",
      " 1.08489 1.08476 1.0849  1.08483 1.08485 1.08495 1.08498 1.08491 1.08499\n",
      " 1.08438 1.08445 1.08453 1.08444 1.08435 1.0842  1.08425 1.08429 1.08433\n",
      " 1.08429 1.08415 1.08422 1.08436 1.08383 1.08404 1.08409 1.08412 1.08421\n",
      " 1.08418 1.08419 1.0842  1.08407 1.08412 1.08413 1.08407 1.08427 1.08427\n",
      " 1.08437 1.08435 1.08437 1.08433 1.08428 1.08422 1.08424 1.08418 1.08413\n",
      " 1.0842  1.08427 1.08433 1.08437 1.08437 1.08429 1.08449 1.08435 1.08442\n",
      " 1.08447 1.08441 1.08444 1.08424 1.08424 1.08419 1.08405 1.08388 1.08402\n",
      " 1.08398 1.08389 1.08385 1.08382 1.08383 1.08372 1.08377 1.08456 1.08475\n",
      " 1.08498 1.08508 1.08518 1.08499 1.08464 1.08461 1.08459 1.08455 1.08449]\n"
     ]
    }
   ],
   "source": [
    "# get the close prices from historic data  \n",
    "close_prices = np.array([bar[4] for bar in rates])\n",
    "\n",
    "# Normalize the close prices  \n",
    "scaler = MinMaxScaler()\n",
    "scaler.fit(close_prices.reshape(-1, 1))\n",
    "scaled_prices = scaler.transform(close_prices.reshape(-1, 1))\n",
    "\n",
    "print(close_prices)\n"
   ]
  },
  {
   "cell_type": "code",
   "execution_count": 8,
   "id": "08b9778d-d6f2-49c8-93b0-f911ec9d2aa4",
   "metadata": {},
   "outputs": [
    {
     "name": "stdout",
     "output_type": "stream",
     "text": [
      "9/9 [==============================] - 0s 1ms/step\n"
     ]
    }
   ],
   "source": [
    "# Prepare the data and generate the predictions \n",
    "sequence_length = 15  # Adjust to sequence_length to 15\n",
    "sequences = []\n",
    "for i in range(len(scaled_prices) - sequence_length):\n",
    "    sequences.append(scaled_prices[i:i+sequence_length])\n",
    "\n",
    "X_input = np.array(sequences)\n",
    "\n",
    "# Generate the predictions using the LSTM model \n",
    "predictions = model.predict(X_input)\n",
    "\n",
    "# Desnormalize the predictions \n",
    "predicted_prices = scaler.inverse_transform(predictions)"
   ]
  },
  {
   "cell_type": "code",
   "execution_count": 9,
   "id": "db38b1e3-598f-4fef-a5c3-5779e9f7fd42",
   "metadata": {},
   "outputs": [],
   "source": [
    "# Implement a simple trading strategy \n",
    "lot_size = 0.02  # lot size \n",
    "comment = \"Buy Order\"\n",
    "interval_between_orders = 300\n",
    "\n",
    "# Define the constants of order type \n",
    "ORDER_TYPE_BUY = mt5.ORDER_TYPE_BUY\n",
    "ORDER_TYPE_SELL = mt5.ORDER_TYPE_SELL\n"
   ]
  },
  {
   "cell_type": "code",
   "execution_count": null,
   "id": "7927e94a-da8f-40d3-b24a-d1b1f2d278eb",
   "metadata": {},
   "outputs": [
    {
     "name": "stdout",
     "output_type": "stream",
     "text": [
      "Order successful\n"
     ]
    }
   ],
   "source": [
    "# Execute the strategy in a infinite loop \n",
    "while True:\n",
    "    for i in range(len(predicted_prices)):\n",
    "        if i == 0:\n",
    "            continue\n",
    "        predicted_price = float(predicted_prices[i][0])  # Get a scalar value of array \n",
    "        previous_price = float(predicted_prices[i-1][0])  # Add this line to get the previous close price\n",
    "\n",
    "        # Calculate the value un pips for TP and SL\n",
    "        tp_pips = 50\n",
    "        sl_pips = 25\n",
    "\n",
    "        # Define the order type based on prediction \n",
    "        if predicted_price > previous_price:\n",
    "            order_type = ORDER_TYPE_BUY\n",
    "            price = mt5.symbol_info_tick(symbol).ask\n",
    "            take_profit_price = price + tp_pips * mt5.symbol_info(symbol).point\n",
    "            stop_loss_price = price - sl_pips * mt5.symbol_info(symbol).point\n",
    "        else:\n",
    "            order_type = ORDER_TYPE_SELL\n",
    "            price = mt5.symbol_info_tick(symbol).bid\n",
    "            take_profit_price = price - tp_pips * mt5.symbol_info(symbol).point\n",
    "            stop_loss_price = price + sl_pips * mt5.symbol_info(symbol).point\n",
    "\n",
    "        # Prepare the order request structure \n",
    "        request = {\n",
    "            \"action\": mt5.TRADE_ACTION_DEAL,\n",
    "            \"symbol\": symbol,\n",
    "            \"volume\": lot_size,\n",
    "            \"type\": order_type,\n",
    "            \"price\": price,\n",
    "            \"tp\": take_profit_price,\n",
    "            \"sl\": stop_loss_price,\n",
    "            \"deviation\": 20,\n",
    "            \"magic\": 234000,\n",
    "            \"comment\": comment,\n",
    "            \"type_time\": mt5.ORDER_TIME_GTC,\n",
    "            \"type_filling\": mt5.ORDER_FILLING_IOC,\n",
    "        }\n",
    "\n",
    "        # Send the trading request \n",
    "        result = mt5.order_send(request)\n",
    "\n",
    "        # Verify the Result of execution \n",
    "        if result.retcode != mt5.TRADE_RETCODE_DONE:\n",
    "            print(\"Orden failed, retcode={}\".format(result.retcode))\n",
    "            # You can add more details of result here \n",
    "        else:\n",
    "            print(\"Order successful\")\n",
    "\n",
    "        # Wait a time before the next iteration \n",
    "        time.sleep(interval_between_orders)"
   ]
  }
 ],
 "metadata": {
  "kernelspec": {
   "display_name": "Python 3 (ipykernel)",
   "language": "python",
   "name": "python3"
  },
  "language_info": {
   "codemirror_mode": {
    "name": "ipython",
    "version": 3
   },
   "file_extension": ".py",
   "mimetype": "text/x-python",
   "name": "python",
   "nbconvert_exporter": "python",
   "pygments_lexer": "ipython3",
   "version": "3.11.4"
  }
 },
 "nbformat": 4,
 "nbformat_minor": 5
}
