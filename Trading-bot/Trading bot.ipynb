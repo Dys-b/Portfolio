{
 "cells": [
  {
   "cell_type": "code",
   "execution_count": 1,
   "id": "50408c6c-49c4-4157-a1ba-fb467350f155",
   "metadata": {},
   "outputs": [],
   "source": [
    "import numpy as np\n",
    "import pandas as pd\n",
    "import tensorflow as tf\n",
    "from sklearn.preprocessing import MinMaxScaler\n",
    "import MetaTrader5 as mt5\n",
    "import pytz\n",
    "from datetime import datetime, timedelta\n",
    "import time\n"
   ]
  },
  {
   "cell_type": "code",
   "execution_count": 2,
   "id": "dde62155-4093-8571-86b70ecc23a9",
   "metadata": {},
   "outputs": [],
   "source": [
    "# establish connection to the MetaTrader 5 terminal\n",
    "if not mt5.initialize():\n",
    "    print(\"initialize() failed, error code =\",mt5.last_error())\n",
    "    quit()"
   ]
  },
  {
   "cell_type": "code",
   "execution_count": 3,
   "id": "5c7ec4ba-23c6-4292-bdcb-3b8649d17057",
   "metadata": {},
   "outputs": [
    {
     "name": "stdout",
     "output_type": "stream",
     "text": [
      " login=511899\n",
      " trade_mode=2\n",
      " leverage=200\n",
      " limit_orders=500\n",
      " margin_so_mode=0\n",
      " trade_allowed=True\n",
      " trade_expert=True\n",
      " margin_mode=2\n",
      " currency_digits=2\n",
      " fifo_close=False\n",
      " balance=151.51\n",
      " credit=0.0\n",
      " profit=0.0\n",
      " equity=151.51\n",
      " margin=0.0\n",
      " margin_free=151.51\n",
      " margin_level=0.0\n",
      " margin_so_call=90.0\n",
      " margin_so_so=50.0\n",
      " margin_initial=0.0\n",
      " margin_maintenance=0.0\n",
      " assets=0.0\n",
      " liabilities=0.0\n",
      " commission_blocked=0.0\n",
      " name=david poblano\n",
      " server=Pepperstone-MT5-Live01\n",
      " currency=USD\n",
      " company=Pepperstone Group Limited\n"
     ]
    }
   ],
   "source": [
    "# connect to the trade account without specifying a password and a server\n",
    "account=511899\n",
    "authorized=mt5.login(account, password= \"Your_password\", server=\"Pepperstone-MT5-Live01\", path= \"C:\\Program Files\\Pepperstone MetaTrader 5\\terminal64.exe\")  \n",
    "\n",
    "# the terminal database password is applied if connection data is set to be remembered\n",
    "if authorized:\n",
    "    account_info_dict =mt5.account_info()._asdict()\n",
    "    for prop in account_info_dict:\n",
    "        print(\" {}={}\".format(prop, account_info_dict[prop]))\n",
    "else:\n",
    "    print(\"failed to connect at account #{}, error code: {}\".format(account, mt5.last_error()))\n",
    "    \n"
   ]
  },
  {
   "cell_type": "code",
   "execution_count": 4,
   "id": "2f5c463e-9a0a-476d-817e-1916eac55654",
   "metadata": {},
   "outputs": [
    {
     "name": "stdout",
     "output_type": "stream",
     "text": [
      "Solicitando datos históricos para EURUSD - Timeframe: 5\n",
      "Desde: 2023-08-31 02:51:24.170767+00:00 - Hasta: 2023-09-01 02:51:24.170767+00:00\n"
     ]
    }
   ],
   "source": [
    "# Definir el símbolo y el timeframe\n",
    "symbol = \"EURUSD\"\n",
    "timeframe = mt5.TIMEFRAME_M5\n",
    "\n",
    "# Establecer la zona horaria a UTC\n",
    "timezone = pytz.timezone(\"Etc/UTC\")\n",
    "\n",
    "# Obtener la fecha y hora actual en la zona horaria UTC\n",
    "now_utc = datetime.now(tz=timezone)\n",
    "\n",
    "# Calcular la fecha de \"ayer\"\n",
    "yesterday_utc = now_utc - timedelta(days=1)\n",
    "\n",
    "# Crear objetos 'datetime' en la zona horaria UTC para ayer y hoy\n",
    "utc_from = yesterday_utc\n",
    "utc_to = now_utc\n",
    "\n",
    "# Imprimir información antes de obtener los datos\n",
    "print(f\"Solicitando datos históricos para {symbol} - Timeframe: {timeframe}\")\n",
    "print(f\"Desde: {utc_from} - Hasta: {utc_to}\")"
   ]
  },
  {
   "cell_type": "code",
   "execution_count": 5,
   "id": "404b80eb-2f98-4615-b840-10471e4ab286",
   "metadata": {},
   "outputs": [
    {
     "name": "stdout",
     "output_type": "stream",
     "text": [
      "Total de barras obtenidas: 288\n",
      "Primeras 10 barras obtenidas:\n",
      "Barra 1: (1693450500, 1.09291, 1.09296, 1.09289, 1.09295, 40, 0, 0)\n",
      "Barra 2: (1693450800, 1.09295, 1.09319, 1.0928, 1.09316, 147, 0, 0)\n",
      "Barra 3: (1693451100, 1.09315, 1.09315, 1.09286, 1.09306, 160, 0, 0)\n",
      "Barra 4: (1693451400, 1.09304, 1.0932, 1.09286, 1.09289, 88, 0, 0)\n",
      "Barra 5: (1693451700, 1.09289, 1.09315, 1.09289, 1.09304, 78, 0, 0)\n",
      "Barra 6: (1693452000, 1.09304, 1.0932, 1.09298, 1.0931, 113, 0, 0)\n",
      "Barra 7: (1693452300, 1.0931, 1.09312, 1.09297, 1.09307, 88, 0, 0)\n",
      "Barra 8: (1693452600, 1.09307, 1.09321, 1.09299, 1.09315, 91, 0, 0)\n",
      "Barra 9: (1693452900, 1.09315, 1.09316, 1.09298, 1.09301, 57, 0, 0)\n",
      "Barra 10: (1693453200, 1.09305, 1.0931, 1.09298, 1.09303, 45, 0, 0)\n",
      "Barra 11: (1693453500, 1.09303, 1.09304, 1.09292, 1.09302, 104, 0, 0)\n",
      "Barra 12: (1693453800, 1.09302, 1.0934, 1.09291, 1.0934, 220, 0, 0)\n",
      "Barra 13: (1693454100, 1.09326, 1.09338, 1.09322, 1.09331, 164, 0, 0)\n",
      "Barra 14: (1693454400, 1.09331, 1.09353, 1.09323, 1.09344, 159, 0, 0)\n",
      "Barra 15: (1693454700, 1.09344, 1.09346, 1.09335, 1.09341, 73, 0, 0)\n",
      "Barra 16: (1693455000, 1.09341, 1.09349, 1.09339, 1.09345, 61, 0, 0)\n",
      "Barra 17: (1693455300, 1.09346, 1.09373, 1.09342, 1.09367, 96, 0, 0)\n",
      "Barra 18: (1693455600, 1.09367, 1.09367, 1.0935, 1.09351, 106, 0, 0)\n",
      "Barra 19: (1693455900, 1.09351, 1.09352, 1.0934, 1.09346, 138, 0, 0)\n",
      "Barra 20: (1693456200, 1.09346, 1.09397, 1.09345, 1.09389, 306, 0, 0)\n"
     ]
    }
   ],
   "source": [
    "# Obtener datos históricos usando copy_rates_range\n",
    "rates = mt5.copy_rates_range('EURUSD', mt5.TIMEFRAME_M5, utc_from, utc_to)\n",
    "\n",
    "# Imprimir información después de obtener los datos\n",
    "print(f\"Total de barras obtenidas: {len(rates)}\")\n",
    "print(\"Primeras 10 barras obtenidas:\")\n",
    "for i, rate in enumerate(rates[:20], start=1):\n",
    "    print(f\"Barra {i}: {rate}\")"
   ]
  },
  {
   "cell_type": "code",
   "execution_count": 6,
   "id": "f76c0a0a-e014-4069-95eb-adb19ab6c46f",
   "metadata": {},
   "outputs": [],
   "source": [
    "# Cargar el modelo LSTM previamente entrenado\n",
    "model = tf.keras.models.load_model('model_checkpoint.h5')"
   ]
  },
  {
   "cell_type": "code",
   "execution_count": 7,
   "id": "82f7a29c-243e-4689-b3bb-afe16b8fff43",
   "metadata": {},
   "outputs": [
    {
     "name": "stdout",
     "output_type": "stream",
     "text": [
      "[1.09295 1.09316 1.09306 1.09289 1.09304 1.0931  1.09307 1.09315 1.09301\n",
      " 1.09303 1.09302 1.0934  1.09331 1.09344 1.09341 1.09345 1.09367 1.09351\n",
      " 1.09346 1.09389 1.09367 1.09371 1.09355 1.09321 1.09289 1.09269 1.09239\n",
      " 1.09247 1.0927  1.09276 1.09255 1.0925  1.09236 1.09237 1.09227 1.09222\n",
      " 1.09218 1.09224 1.09222 1.09213 1.09224 1.09214 1.09225 1.09214 1.0922\n",
      " 1.09203 1.09211 1.09209 1.09204 1.09214 1.09218 1.09224 1.09217 1.09202\n",
      " 1.09204 1.09205 1.09201 1.09192 1.09201 1.09195 1.09187 1.09178 1.09169\n",
      " 1.09179 1.0918  1.09182 1.09173 1.09189 1.09186 1.09173 1.0919  1.09191\n",
      " 1.0918  1.09137 1.09138 1.09154 1.09145 1.09113 1.09135 1.09135 1.09148\n",
      " 1.09165 1.09158 1.09092 1.09072 1.0903  1.08969 1.08942 1.08922 1.08942\n",
      " 1.08972 1.09014 1.09032 1.08997 1.08997 1.08937 1.08927 1.08918 1.08858\n",
      " 1.08893 1.08893 1.08877 1.08865 1.08856 1.08884 1.08871 1.08843 1.08813\n",
      " 1.08779 1.08654 1.08709 1.08711 1.08716 1.08739 1.08734 1.08725 1.08704\n",
      " 1.08735 1.08734 1.08744 1.08742 1.08733 1.08707 1.08653 1.08641 1.08653\n",
      " 1.087   1.08718 1.08765 1.08749 1.08746 1.08738 1.08732 1.08709 1.08708\n",
      " 1.08709 1.08732 1.08659 1.08672 1.08622 1.08607 1.08644 1.08664 1.08648\n",
      " 1.08683 1.08679 1.0868  1.08793 1.088   1.08754 1.08758 1.08795 1.08692\n",
      " 1.08688 1.08683 1.08729 1.08743 1.08633 1.08565 1.08602 1.08612 1.08604\n",
      " 1.08609 1.08624 1.08564 1.08528 1.08424 1.08451 1.08493 1.08555 1.08509\n",
      " 1.08485 1.08484 1.08531 1.08534 1.08494 1.08471 1.08419 1.08446 1.08445\n",
      " 1.08549 1.08474 1.08498 1.08448 1.0846  1.08462 1.08483 1.08433 1.08448\n",
      " 1.08382 1.08404 1.08406 1.08387 1.08389 1.08431 1.08417 1.08399 1.08367\n",
      " 1.08367 1.08358 1.08389 1.08395 1.08389 1.08424 1.08387 1.08413 1.08429\n",
      " 1.08442 1.08428 1.08473 1.08439 1.08439 1.08504 1.08494 1.08496 1.08485\n",
      " 1.08489 1.08496 1.08511 1.08509 1.08511 1.08535 1.08534 1.08515 1.08503\n",
      " 1.0847  1.08483 1.08466 1.08458 1.08474 1.08489 1.08489 1.08476 1.0849\n",
      " 1.08483 1.08485 1.08495 1.08498 1.08491 1.08499 1.08438 1.08445 1.08453\n",
      " 1.08444 1.08435 1.0842  1.08425 1.08429 1.08433 1.08429 1.08415 1.08422\n",
      " 1.08436 1.08383 1.08404 1.08409 1.08412 1.08421 1.08418 1.08419 1.0842\n",
      " 1.08407 1.08412 1.08413 1.08407 1.08427 1.08427 1.08437 1.08435 1.08437\n",
      " 1.08433 1.08428 1.08422 1.08424 1.08418 1.08413 1.0842  1.08427 1.08433\n",
      " 1.08437 1.08437 1.08429 1.08449 1.08435 1.08442 1.08447 1.08441 1.08444]\n"
     ]
    }
   ],
   "source": [
    "# Extraer los precios de cierre de los datos históricos\n",
    "close_prices = np.array([bar[4] for bar in rates])\n",
    "\n",
    "# Normalizar los precios de cierre\n",
    "scaler = MinMaxScaler()\n",
    "scaler.fit(close_prices.reshape(-1, 1))\n",
    "scaled_prices = scaler.transform(close_prices.reshape(-1, 1))\n",
    "\n",
    "print(close_prices)\n"
   ]
  },
  {
   "cell_type": "code",
   "execution_count": 8,
   "id": "08b9778d-d6f2-49c8-93b0-f911ec9d2aa4",
   "metadata": {},
   "outputs": [
    {
     "name": "stdout",
     "output_type": "stream",
     "text": [
      "9/9 [==============================] - 0s 1ms/step\n"
     ]
    }
   ],
   "source": [
    "# Preparar los datos y generar predicciones\n",
    "sequence_length = 15  # Ajusta la longitud de la secuencia a 15\n",
    "sequences = []\n",
    "for i in range(len(scaled_prices) - sequence_length):\n",
    "    sequences.append(scaled_prices[i:i+sequence_length])\n",
    "\n",
    "X_input = np.array(sequences)\n",
    "\n",
    "# Generar predicciones usando el modelo LSTM\n",
    "predictions = model.predict(X_input)\n",
    "\n",
    "# Desnormalizar las predicciones\n",
    "predicted_prices = scaler.inverse_transform(predictions)"
   ]
  },
  {
   "cell_type": "code",
   "execution_count": 9,
   "id": "db38b1e3-598f-4fef-a5c3-5779e9f7fd42",
   "metadata": {},
   "outputs": [],
   "source": [
    "# Implementar una estrategia de trading simple\n",
    "lot_size = 0.02  # Tamaño del lote\n",
    "comment = \"Orden de compra\"\n",
    "interval_between_orders = 300\n",
    "\n",
    "# Definir las constantes de tipo de órdenes\n",
    "ORDER_TYPE_BUY = mt5.ORDER_TYPE_BUY\n",
    "ORDER_TYPE_SELL = mt5.ORDER_TYPE_SELL\n"
   ]
  },
  {
   "cell_type": "code",
   "execution_count": null,
   "id": "7927e94a-da8f-40d3-b24a-d1b1f2d278eb",
   "metadata": {},
   "outputs": [
    {
     "name": "stdout",
     "output_type": "stream",
     "text": [
      "Orden exitosa\n",
      "Orden exitosa\n",
      "Orden exitosa\n",
      "Orden exitosa\n"
     ]
    }
   ],
   "source": [
    "# Ejecutar la estrategia en un bucle infinito\n",
    "while True:\n",
    "    for i in range(len(predicted_prices)):\n",
    "        if i == 0:\n",
    "            continue\n",
    "        predicted_price = float(predicted_prices[i][0])  # Extraer un valor escalar del array\n",
    "        previous_price = float(predicted_prices[i-1][0])  # Agregar esta línea para tener el precio anterior\n",
    "\n",
    "        # Calcular el valor en pips para TP y SL\n",
    "        tp_pips = 50\n",
    "        sl_pips = 125\n",
    "\n",
    "        # Definir el tipo de orden basado en la predicción\n",
    "        if predicted_price > previous_price:\n",
    "            order_type = ORDER_TYPE_BUY\n",
    "            price = mt5.symbol_info_tick(symbol).ask\n",
    "            take_profit_price = price + tp_pips * mt5.symbol_info(symbol).point\n",
    "            stop_loss_price = price - sl_pips * mt5.symbol_info(symbol).point\n",
    "        else:\n",
    "            order_type = ORDER_TYPE_SELL\n",
    "            price = mt5.symbol_info_tick(symbol).bid\n",
    "            take_profit_price = price - tp_pips * mt5.symbol_info(symbol).point\n",
    "            stop_loss_price = price + sl_pips * mt5.symbol_info(symbol).point\n",
    "\n",
    "        # Preparar la estructura de la solicitud de orden\n",
    "        request = {\n",
    "            \"action\": mt5.TRADE_ACTION_DEAL,\n",
    "            \"symbol\": symbol,\n",
    "            \"volume\": lot_size,\n",
    "            \"type\": order_type,\n",
    "            \"price\": price,\n",
    "            \"tp\": take_profit_price,\n",
    "            \"sl\": stop_loss_price,\n",
    "            \"deviation\": 20,\n",
    "            \"magic\": 234000,\n",
    "            \"comment\": comment,\n",
    "            \"type_time\": mt5.ORDER_TIME_GTC,\n",
    "            \"type_filling\": mt5.ORDER_FILLING_IOC,\n",
    "        }\n",
    "\n",
    "        # Enviar la solicitud de trading\n",
    "        result = mt5.order_send(request)\n",
    "\n",
    "        # Verificar el resultado de la ejecución\n",
    "        if result.retcode != mt5.TRADE_RETCODE_DONE:\n",
    "            print(\"Orden fallida, retcode={}\".format(result.retcode))\n",
    "            # Puedes agregar más detalles sobre el resultado aquí\n",
    "        else:\n",
    "            print(\"Orden exitosa\")\n",
    "\n",
    "        # Esperar un tiempo antes de la siguiente iteración\n",
    "        time.sleep(interval_between_orders)"
   ]
  },
  {
   "cell_type": "code",
   "execution_count": null,
   "id": "7f22578e-3345-433e-b109-377023aeec13",
   "metadata": {},
   "outputs": [],
   "source": []
  },
  {
   "cell_type": "code",
   "execution_count": null,
   "id": "caffcac2-9a88-4a47-ac2e-190e280441cf",
   "metadata": {},
   "outputs": [],
   "source": []
  }
 ],
 "metadata": {
  "kernelspec": {
   "display_name": "Python 3 (ipykernel)",
   "language": "python",
   "name": "python3"
  },
  "language_info": {
   "codemirror_mode": {
    "name": "ipython",
    "version": 3
   },
   "file_extension": ".py",
   "mimetype": "text/x-python",
   "name": "python",
   "nbconvert_exporter": "python",
   "pygments_lexer": "ipython3",
   "version": "3.11.4"
  }
 },
 "nbformat": 4,
 "nbformat_minor": 5
}
